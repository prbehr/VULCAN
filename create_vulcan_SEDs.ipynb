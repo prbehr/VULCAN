{
 "cells": [
  {
   "cell_type": "markdown",
   "id": "b0219e66-9736-4623-90c7-d1cef931981f",
   "metadata": {},
   "source": [
    "Converts FITS file SEDs for $\\alpha$ Cen and the Woods solar IDL file into appropriate txt files for VULCAN"
   ]
  },
  {
   "cell_type": "code",
   "execution_count": 10,
   "id": "9a09b655-3336-4152-bfac-bf5e56a66d14",
   "metadata": {},
   "outputs": [],
   "source": [
    "%matplotlib qt"
   ]
  },
  {
   "cell_type": "code",
   "execution_count": 11,
   "id": "aa9db3fc-2015-4d9c-ac12-0fd4b90269e0",
   "metadata": {},
   "outputs": [],
   "source": [
    "import matplotlib.pyplot as plt\n",
    "import numpy as np\n",
    "import pandas as pd\n",
    "from astropy.io import fits\n",
    "from astropy import units as u\n",
    "from scipy.io import readsav\n",
    "from prettyplots import pretty_axis\n",
    "\n",
    "### Functions ###\n",
    "\n",
    "# Function to read and convert FITS data\n",
    "def read_alfcen_data(filepath):\n",
    "    data = fits.getdata(filepath, 1)\n",
    "    return {\n",
    "        'wavelength': data['wavelength'] * wave_conversion,\n",
    "        'flux': data['totflux'] * flux_conversion\n",
    "    }\n",
    "\n",
    "# Convert to DataFrames\n",
    "def to_df(data):\n",
    "    return pd.DataFrame({'wavelength': data['wavelength'], 'flux': data['flux']})"
   ]
  },
  {
   "cell_type": "code",
   "execution_count": 20,
   "id": "bbc2cac5-fe39-403e-b35f-03103e70eab5",
   "metadata": {},
   "outputs": [
    {
     "name": "stdout",
     "output_type": "stream",
     "text": [
      "Bolometric fluxes\n",
      "α Cen peak:\t1261238.12\tFraction of solar:\t0.96\n",
      "α Cen min:\t1263243.00\tFraction of solar:\t0.96\n",
      "Woods solar:\t 1309836.2\n"
     ]
    }
   ],
   "source": [
    "# unit conversions\n",
    "flux_conversion = (u.erg / u.s / u.cm**2 / u.AA).to(u.erg / u.s / u.cm**2 / u.nm)\n",
    "wave_conversion = u.AA.to(u.nm)\n",
    "\n",
    "# File paths\n",
    "alfcen_files = {\n",
    "    'peak': './alfCen_planetflux_peak_2024-6-17.fits',\n",
    "    'min': './alfCen_planetflux_min_2024-6-17.fits',\n",
    "}\n",
    "woods_file = './atm/stellar_flux/solar-data.idlsav'\n",
    "\n",
    "\n",
    "alfcen = {key: read_alfcen_data(path) for key, path in alfcen_files.items()}\n",
    "\n",
    "# Load Woods data and convert units\n",
    "woods_data = readsav(woods_file)\n",
    "woods = {\n",
    "    'wavelength': woods_data['wave'].flatten() * 10 * wave_conversion,\n",
    "    'flux': woods_data['flux'].flatten() * 100 * flux_conversion\n",
    "}\n",
    "\n",
    "# Apply wavelength/flux masks and trim overlapping regions\n",
    "woods_max_wave = woods['wavelength'][-1]\n",
    "for key in alfcen:\n",
    "    mask = (alfcen[key]['wavelength'] < woods_max_wave) & (alfcen[key]['flux'] > 1e-4)\n",
    "    alfcen[key]['wavelength'] = alfcen[key]['wavelength'][mask]\n",
    "    alfcen[key]['flux'] = alfcen[key]['flux'][mask]\n",
    "\n",
    "woods_mask = woods['wavelength'] > alfcen['peak']['wavelength'][0]\n",
    "woods['wavelength'] = woods['wavelength'][woods_mask]\n",
    "woods['flux'] = woods['flux'][woods_mask]\n",
    "\n",
    "\n",
    "fig,ax = plt.subplots(1,1,layout='constrained')\n",
    "pretty_axis(ax)\n",
    "ax.loglog(alfcen['peak']['wavelength'],alfcen['peak']['flux'],label=r'$\\alpha$ Cen (peak)')\n",
    "ax.loglog(alfcen['min']['wavelength'],alfcen['min']['flux'],label=r'$\\alpha$ Cen (min)')\n",
    "ax.loglog(woods['wavelength'],woods['flux'],label='Sun')\n",
    "ax.set_xlabel('Wavelength [nm]',fontsize=18)\n",
    "ax.set_ylabel(r'Flux [erg s$^{-1}$ cm$^{-2}$ nm$^{-1}$]',fontsize=18)\n",
    "ax.legend(fontsize=14)\n",
    "\n",
    "print('Bolometric fluxes')\n",
    "ac_peak_bolo = np.trapezoid(x=alfcen['peak']['wavelength'],y=alfcen['peak']['flux'])\n",
    "ac_min_bolo = np.trapezoid(x=alfcen['min']['wavelength'],y=alfcen['min']['flux'])\n",
    "woods_bolo = np.trapezoid(x=woods['wavelength'],y=woods['flux'])\n",
    "\n",
    "print('α Cen peak:\\t%0.2f\\tFraction of solar:\\t%0.2f'%(ac_peak_bolo,ac_peak_bolo/woods_bolo))\n",
    "print('α Cen min:\\t%0.2f\\tFraction of solar:\\t%0.2f'%(ac_min_bolo,ac_min_bolo/woods_bolo))\n",
    "print('Woods solar:\\t',woods_bolo)"
   ]
  },
  {
   "cell_type": "code",
   "execution_count": 21,
   "id": "a9f36d5d-70a7-4c3f-98a0-6fc2bb420939",
   "metadata": {},
   "outputs": [],
   "source": [
    "dfs = {\n",
    "    'alfcen_peak': to_df(alfcen['peak']),\n",
    "    'alfcen_min': to_df(alfcen['min']),\n",
    "    'woods': to_df(woods)\n",
    "}\n",
    "\n",
    "# Save to files\n",
    "output_paths = {\n",
    "    'alfcen_peak': './atm/stellar_flux/alf_cen_peak.txt',\n",
    "    'alfcen_min': './atm/stellar_flux/alf_cen_min.txt',\n",
    "    'woods': './atm/stellar_flux/woods_solar.txt'\n",
    "}\n",
    "\n",
    "for key, df in dfs.items():\n",
    "    df.to_csv(output_paths[key], index=False, sep='\\t')"
   ]
  },
  {
   "cell_type": "code",
   "execution_count": null,
   "id": "084e14e9-50b9-4004-bdef-ba5fa094be04",
   "metadata": {},
   "outputs": [],
   "source": []
  }
 ],
 "metadata": {
  "kernelspec": {
   "display_name": "Python 3 (ipykernel)",
   "language": "python",
   "name": "python3"
  },
  "language_info": {
   "codemirror_mode": {
    "name": "ipython",
    "version": 3
   },
   "file_extension": ".py",
   "mimetype": "text/x-python",
   "name": "python",
   "nbconvert_exporter": "python",
   "pygments_lexer": "ipython3",
   "version": "3.12.8"
  }
 },
 "nbformat": 4,
 "nbformat_minor": 5
}
