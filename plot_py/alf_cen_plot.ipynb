{
 "cells": [
  {
   "cell_type": "code",
   "execution_count": 1,
   "id": "446faf76-f439-4188-b62e-f1e46675b024",
   "metadata": {},
   "outputs": [],
   "source": [
    "%matplotlib qt"
   ]
  },
  {
   "cell_type": "code",
   "execution_count": 21,
   "id": "1cec5e43-8403-4cbe-83ff-4100d7c894aa",
   "metadata": {},
   "outputs": [],
   "source": [
    "import matplotlib.pyplot as plt\n",
    "import numpy as np\n",
    "from prettyplots import pretty_axis\n",
    "import pickle\n",
    "from astropy.table import Table\n",
    "import astropy.units as u\n",
    "import os\n",
    "from matplotlib.gridspec import GridSpec\n",
    "import json"
   ]
  },
  {
   "cell_type": "markdown",
   "id": "50a84fde-0fa3-4e15-a34c-c8c0580f3fd6",
   "metadata": {},
   "source": [
    "# Plot stellar SEDs"
   ]
  },
  {
   "cell_type": "code",
   "execution_count": 3,
   "id": "880978fb-1093-49fc-b13c-a8e95297a703",
   "metadata": {},
   "outputs": [],
   "source": [
    "alf_cen_infile = {\n",
    "    'peak':'../atm/stellar_flux/alf_cen_peak.txt',\n",
    "    'min':'../atm/stellar_flux/alf_cen_min.txt',\n",
    "}\n",
    "\n",
    "solar_infile = {\n",
    "    'gueymard':'../atm/stellar_flux/gueymard_solar.txt',\n",
    "    'woods':'../atm/stellar_flux/woods_solar.txt',\n",
    "}\n",
    "\n",
    "\n",
    "alf_cen_data = {\n",
    "    'peak':Table.read(alf_cen_infile['peak'],format='ascii'),\n",
    "    'min':Table.read(alf_cen_infile['min'],format='ascii'),\n",
    "}\n",
    "\n",
    "solar_data = {\n",
    "    'gueymard':Table.read(solar_infile['gueymard'],format='ascii',names=['wavelength','flux']),\n",
    "    'woods':Table.read(solar_infile['woods'],format='ascii'),\n",
    "}\n"
   ]
  },
  {
   "cell_type": "code",
   "execution_count": 19,
   "id": "81dd06e9-e923-4a7d-b76d-40c1b862735b",
   "metadata": {},
   "outputs": [
    {
     "data": {
      "text/plain": [
       "Text(0, 0.5, 'Flux [erg s$^{-1}$ cm$^{-2}$ nm$^{-1}$]')"
      ]
     },
     "execution_count": 19,
     "metadata": {},
     "output_type": "execute_result"
    }
   ],
   "source": [
    "fig,ax = plt.subplots(1,1,figsize=(9,4),layout='constrained')\n",
    "pretty_axis(ax)\n",
    "\n",
    "\n",
    "\n",
    "#ax.loglog(solar_data['gueymard']['wavelength'],solar_data['gueymard']['flux'],label='Gueymard solar')\n",
    "ax.loglog(alf_cen_data['peak']['wavelength']*10,alf_cen_data['peak']['flux'],label=r'$\\alpha$ Cen peak',zorder=4)\n",
    "ax.loglog(alf_cen_data['min']['wavelength']*10,alf_cen_data['min']['flux'],label=r'$\\alpha$ Cen min',zorder=4)\n",
    "ax.loglog(solar_data['woods']['wavelength']*10,solar_data['woods']['flux'],label='Sun',zorder=2)\n",
    "ax.legend(fontsize=14)\n",
    "ax.set_xlabel(r'Wavelength [$\\rm{\\AA}$]',fontsize=18)\n",
    "ax.set_ylabel(r'Flux [erg s$^{-1}$ cm$^{-2}$ nm$^{-1}$]',fontsize=18)"
   ]
  },
  {
   "cell_type": "code",
   "execution_count": 20,
   "id": "fc23ab28-1c6c-4931-a34f-26b0519bcf0b",
   "metadata": {},
   "outputs": [],
   "source": [
    "plt.savefig('../paper-figures/stellar_seds.png',format='png')\n",
    "plt.savefig('../paper-figures/stellar_seds.pdf',format='pdf')"
   ]
  },
  {
   "cell_type": "markdown",
   "id": "8fe6a664-53c4-426e-afec-e94b34b9506e",
   "metadata": {},
   "source": [
    "# Plot atmosphere retrievals"
   ]
  },
  {
   "cell_type": "code",
   "execution_count": 13,
   "id": "ebe8e26b-d695-422f-8d5e-c874fbebe9f3",
   "metadata": {},
   "outputs": [],
   "source": [
    "with open('./label_locs.json') as file:\n",
    "    label_locs = json.load(file)"
   ]
  },
  {
   "cell_type": "markdown",
   "id": "3a5c5f80-b7bc-42a3-9504-179a7317e133",
   "metadata": {},
   "source": [
    "## Terrestrial"
   ]
  },
  {
   "cell_type": "code",
   "execution_count": 7,
   "id": "c357d03d-81d5-467a-b4d1-48136d288427",
   "metadata": {},
   "outputs": [],
   "source": [
    "min_file = '../output/terrestrial/alf_cen_min.vul'\n",
    "peak_file = '../output/terrestrial/alf_cen_peak.vul'\n",
    "earth_file = '../output/Earth.vul'"
   ]
  },
  {
   "cell_type": "code",
   "execution_count": 8,
   "id": "abe05e09-0921-4aca-9584-bac5bdba7f83",
   "metadata": {},
   "outputs": [
    {
     "data": {
      "text/plain": [
       "Text(1.5e-10, 0.4, 'Earth')"
      ]
     },
     "execution_count": 8,
     "metadata": {},
     "output_type": "execute_result"
    }
   ],
   "source": [
    "specs_to_plot = ['H','H2','H2O','CO','CO2','CH4','N2','O','O2']\n",
    "\n",
    "fig = plt.figure(layout='constrained',figsize=(12,6))\n",
    "\n",
    "gs = GridSpec(1,3,figure=fig)\n",
    "ax = [\n",
    "    fig.add_subplot(gs[0:2]),\n",
    "    fig.add_subplot(gs[2])\n",
    "]\n",
    "\n",
    "for subax in ax:\n",
    "    pretty_axis(subax)\n",
    "\n",
    "for infile,linestyle,label in zip([peak_file,min_file,earth_file],['-','--',':'],['peak','min','Earth']):\n",
    "    with open(infile,'rb') as handle:\n",
    "        data = pickle.load(handle)\n",
    "        pressure = data['atm']['pco']/1.e6\n",
    "        \n",
    "    mixing_ratios = {}\n",
    "    \n",
    "    for species in specs_to_plot:\n",
    "        ind = data['variable']['species'].index(species)\n",
    "        mixing_ratios[species] = data['variable']['ymix'][:,ind]\n",
    "\n",
    "    i = 0\n",
    "    for sp,mr in mixing_ratios.items():\n",
    "        for char in sp:\n",
    "            if char.isdigit():\n",
    "                # Format species for label\n",
    "                sp = sp.replace(char,\"$_%s$\"%(char))\n",
    "        if 'peak' in infile:\n",
    "            ax[0].plot(mr,pressure,label=sp,ls=linestyle,c='C%s'%(i))\n",
    "        else:\n",
    "            ax[0].plot(mr,pressure,ls=linestyle,c='C%s'%(i))\n",
    "        i += 1\n",
    "\n",
    "ax[0].set_yscale('log')\n",
    "ax[0].set_xscale('log')\n",
    "ax[0].invert_yaxis() \n",
    "ax[0].minorticks_on()\n",
    "ax[0].set_ylim((data['atm']['pco'][0]/1e6,data['atm']['pco'][-1]/1e6))\n",
    "ax[0].set_ylabel(\"Pressure [bar]\",fontsize=20)\n",
    "ax[0].set_xlabel(\"Mixing ratio\",fontsize=20)\n",
    "ax[0].legend(fontsize=14)\n",
    "\n",
    "'''\n",
    "# Plot SEDs\n",
    "ax[1].loglog(solar_data['woods']['wavelength'],solar_data['woods']['flux'],label='Woods solar')\n",
    "ax[1].loglog(alf_cen_data['peak']['wavelength'],alf_cen_data['peak']['flux'],label=r'$\\alpha$ Cen peak')\n",
    "ax[1].loglog(alf_cen_data['min']['wavelength'],alf_cen_data['min']['flux'],label=r'$\\alpha$ Cen min')\n",
    "ax[1].legend(fontsize=12)\n",
    "ax[1].set_xlabel(r'Wavelength [nm]',fontsize=18)\n",
    "ax[1].set_ylabel(r'Stellar lux [erg s$^{-1}$ cm$^{-2}$ nm$^{-1}$]',fontsize=18)\n",
    "'''\n",
    "\n",
    "# Plot TP profile\n",
    "ax[1].semilogy(data['atm']['Tco'], pressure)\n",
    "ax[1].set_xlabel('Temperature [K]',fontsize=18)\n",
    "ax[1].set_ylabel('Pressure [bar]',fontsize=18)\n",
    "ax[1].invert_yaxis()\n",
    "ax[1].sharey(ax[0])\n",
    "\n",
    "ax[0].plot([1e-12,1e-10],[1e-1,1e-1],ls='-',c='k')\n",
    "ax[0].text(s='Peak',x=1.5e-10,y=1e-1,fontsize=14,verticalalignment='center')\n",
    "\n",
    "ax[0].plot([1e-12,1e-10],[2e-1,2e-1],ls='--',c='k')\n",
    "ax[0].text(s='Min',x=1.5e-10,y=2e-1,fontsize=14,verticalalignment='center')\n",
    "\n",
    "ax[0].plot([1e-12,1e-10],[4e-1,4e-1],ls=':',c='k')\n",
    "ax[0].text(s='Earth',x=1.5e-10,y=4e-1,fontsize=14,verticalalignment='center')"
   ]
  },
  {
   "cell_type": "code",
   "execution_count": 9,
   "id": "44a9a556-4d47-41da-9b4f-4121e1ee0a28",
   "metadata": {},
   "outputs": [],
   "source": [
    "plt.savefig('../paper-figures/atm_terrestrial.png',format='png')\n",
    "plt.savefig('../paper-figures/atm_terrestrial.pdf',format='pdf')"
   ]
  },
  {
   "cell_type": "markdown",
   "id": "401584c2-bcee-40da-a3d3-a5e80bd5d637",
   "metadata": {},
   "source": [
    "## Gas giant"
   ]
  },
  {
   "cell_type": "code",
   "execution_count": 10,
   "id": "51a23324-c520-4144-b97a-13c9e1410494",
   "metadata": {},
   "outputs": [],
   "source": [
    "infiles = {\n",
    "    'min':'../output/gas-giant/alf_cen_min.vul',\n",
    "    'peak':'../output/gas-giant/alf_cen_peak.vul'\n",
    "}"
   ]
  },
  {
   "cell_type": "code",
   "execution_count": 16,
   "id": "3adbe8bb-9918-4648-a973-ecc11bf7c891",
   "metadata": {},
   "outputs": [
    {
     "data": {
      "text/plain": [
       "Text(3e-15, 0.2, 'Min')"
      ]
     },
     "execution_count": 16,
     "metadata": {},
     "output_type": "execute_result"
    }
   ],
   "source": [
    "specs_to_plot = ['H','He','H2','H2O','CO','CO2','CH4','N2','O','O2']\n",
    "\n",
    "fig = plt.figure(layout='constrained',figsize=(12,6))\n",
    "\n",
    "gs = GridSpec(1,3,figure=fig)\n",
    "\n",
    "ax = [\n",
    "    fig.add_subplot(gs[0:2]),\n",
    "    fig.add_subplot(gs[2])\n",
    "]\n",
    "\n",
    "for subax in ax:\n",
    "    pretty_axis(subax)\n",
    "\n",
    "for profile,ls in zip(['min','peak'],['--','-']):\n",
    "    with open(infiles[profile],'rb') as handle:\n",
    "        data = pickle.load(handle)\n",
    "        pressure = data['atm']['pco']/1.e6\n",
    "        \n",
    "    mixing_ratios = {}\n",
    "    \n",
    "    for species in specs_to_plot:\n",
    "        ind = data['variable']['species'].index(species)\n",
    "        mixing_ratios[species] = data['variable']['ymix'][:,ind]\n",
    "\n",
    "    i = 0\n",
    "    for sp,mr in mixing_ratios.items():\n",
    "        for char in sp:\n",
    "            if char.isdigit():\n",
    "                # Format species for label\n",
    "                sp = sp.replace(char,\"$_%s$\"%(char))\n",
    "        if profile=='peak':\n",
    "            ax[0].plot(mr,pressure,label=sp,ls=ls,c='C%s'%(i))\n",
    "        else:\n",
    "            ax[0].plot(mr,pressure,ls=ls,c='C%s'%(i))\n",
    "        i += 1\n",
    "\n",
    "for i,(species,loc) in enumerate(label_locs['gas'].items()):\n",
    "    if species in ['H','O$_2$']:\n",
    "        ax[0].text(s=species,x=loc[0],y=loc[1],\n",
    "                   color=f\"C{i}\",\n",
    "                   fontsize=14,\n",
    "                   verticalalignment='center')\n",
    "\n",
    "ax[0].set_yscale('log')\n",
    "ax[0].set_xscale('log')\n",
    "ax[0].invert_yaxis() \n",
    "ax[0].minorticks_on()\n",
    "ax[0].set_ylim((data['atm']['pco'][0]/1e6,data['atm']['pco'][-1]/1e6))\n",
    "ax[0].set_ylabel(\"Pressure [bar]\",fontsize=20)\n",
    "ax[0].set_xlabel(\"Mixing ratio\",fontsize=20)\n",
    "ax[0].legend(fontsize=14)\n",
    "\n",
    "# Plot TP profile\n",
    "ax[1].semilogy(data['atm']['Tco'], pressure)\n",
    "ax[1].set_xlabel('Temperature [K]',fontsize=18)\n",
    "ax[1].set_ylabel('Pressure [bar]',fontsize=18)\n",
    "ax[1].invert_yaxis()\n",
    "ax[1].sharey(ax[0])\n",
    "\n",
    "ax[0].plot([1e-17,1e-15],[1e-1,1e-1],ls='-',c='k')\n",
    "ax[0].text(s='Peak',x=3e-15,y=1e-1,fontsize=14,verticalalignment='center')\n",
    "\n",
    "ax[0].plot([1e-17,1e-15],[2e-1,2e-1],ls='--',c='k')\n",
    "ax[0].text(s='Min',x=3e-15,y=2e-1,fontsize=14,verticalalignment='center')"
   ]
  },
  {
   "cell_type": "code",
   "execution_count": 18,
   "id": "39935f83-1fd9-4e9b-aa58-2425ef0d3e5b",
   "metadata": {},
   "outputs": [],
   "source": [
    "plt.savefig('../paper-figures/atm_gas-giant.png',format='png')\n",
    "plt.savefig('../paper-figures/atm_gas-giant.pdf',format='pdf')"
   ]
  },
  {
   "cell_type": "code",
   "execution_count": null,
   "id": "5755fd13-6337-49bc-a0ee-66e0b47a5a11",
   "metadata": {},
   "outputs": [],
   "source": []
  }
 ],
 "metadata": {
  "kernelspec": {
   "display_name": "Python 3 (ipykernel)",
   "language": "python",
   "name": "python3"
  },
  "language_info": {
   "codemirror_mode": {
    "name": "ipython",
    "version": 3
   },
   "file_extension": ".py",
   "mimetype": "text/x-python",
   "name": "python",
   "nbconvert_exporter": "python",
   "pygments_lexer": "ipython3",
   "version": "3.12.8"
  }
 },
 "nbformat": 4,
 "nbformat_minor": 5
}
