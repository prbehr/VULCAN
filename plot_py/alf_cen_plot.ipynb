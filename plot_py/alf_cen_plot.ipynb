{
 "cells": [
  {
   "cell_type": "code",
   "execution_count": 1,
   "id": "446faf76-f439-4188-b62e-f1e46675b024",
   "metadata": {},
   "outputs": [],
   "source": [
    "%matplotlib qt"
   ]
  },
  {
   "cell_type": "code",
   "execution_count": 2,
   "id": "1cec5e43-8403-4cbe-83ff-4100d7c894aa",
   "metadata": {},
   "outputs": [],
   "source": [
    "import matplotlib.pyplot as plt\n",
    "import numpy as np\n",
    "from prettyplots import pretty_axis\n",
    "import pickle\n",
    "from astropy.table import Table"
   ]
  },
  {
   "cell_type": "markdown",
   "id": "50a84fde-0fa3-4e15-a34c-c8c0580f3fd6",
   "metadata": {},
   "source": [
    "# Plot stellar SEDs"
   ]
  },
  {
   "cell_type": "code",
   "execution_count": 3,
   "id": "880978fb-1093-49fc-b13c-a8e95297a703",
   "metadata": {},
   "outputs": [],
   "source": [
    "alf_cen_infile = {\n",
    "    'peak':'../atm/stellar_flux/alf_cen_peak.txt',\n",
    "    'min':'../atm/stellar_flux/alf_cen_min.txt',\n",
    "}\n",
    "\n",
    "solar_infile = {\n",
    "    'gueymard':'../atm/stellar_flux/gueymard_solar.txt',\n",
    "    'woods':'../atm/stellar_flux/woods_solar.txt',\n",
    "}\n",
    "\n",
    "\n",
    "alf_cen_data = {\n",
    "    'peak':Table.read(alf_cen_infile['peak'],format='ascii'),\n",
    "    'min':Table.read(alf_cen_infile['min'],format='ascii'),\n",
    "}\n",
    "\n",
    "solar_data = {\n",
    "    'gueymard':Table.read(solar_infile['gueymard'],format='ascii',names=['wavelength','flux']),\n",
    "    'woods':Table.read(solar_infile['woods'],format='ascii'),\n",
    "}\n"
   ]
  },
  {
   "cell_type": "code",
   "execution_count": 4,
   "id": "81dd06e9-e923-4a7d-b76d-40c1b862735b",
   "metadata": {},
   "outputs": [
    {
     "data": {
      "text/plain": [
       "Text(0, 0.5, 'Flux [erg s$^{-1}$ cm$^{-2}$ nm$^{-1}$]')"
      ]
     },
     "execution_count": 4,
     "metadata": {},
     "output_type": "execute_result"
    }
   ],
   "source": [
    "fig,ax = plt.subplots(1,1,layout='constrained')\n",
    "pretty_axis(ax)\n",
    "\n",
    "ax.loglog(solar_data['gueymard']['wavelength'],solar_data['gueymard']['flux'],label='Gueymard solar')\n",
    "ax.loglog(solar_data['woods']['wavelength'],solar_data['woods']['flux'],label='Woods solar')\n",
    "ax.loglog(alf_cen_data['peak']['wavelength'],alf_cen_data['peak']['flux'],label=r'$\\alpha$ Cen peak')\n",
    "ax.loglog(alf_cen_data['min']['wavelength'],alf_cen_data['min']['flux'],label=r'$\\alpha$ Cen min')\n",
    "ax.legend(fontsize=14)\n",
    "ax.set_xlabel(r'Wavelength [nm]',fontsize=18)\n",
    "ax.set_ylabel(r'Flux [erg s$^{-1}$ cm$^{-2}$ nm$^{-1}$]',fontsize=18)"
   ]
  },
  {
   "cell_type": "markdown",
   "id": "8fe6a664-53c4-426e-afec-e94b34b9506e",
   "metadata": {},
   "source": [
    "# Plot atmosphere retrievals"
   ]
  },
  {
   "cell_type": "code",
   "execution_count": 5,
   "id": "cbf3a8c2-1984-4634-9a3d-ae7bb48aa29b",
   "metadata": {},
   "outputs": [],
   "source": [
    "min_file = '../output/alf_cen_min.vul'\n",
    "peak_file = '../output/alf_cen_peak.vul'\n",
    "earth_file = '../output/Earth.vul'"
   ]
  },
  {
   "cell_type": "code",
   "execution_count": 13,
   "id": "abe05e09-0921-4aca-9584-bac5bdba7f83",
   "metadata": {},
   "outputs": [
    {
     "data": {
      "text/plain": [
       "Text(1.5e-09, 0.4, 'Earth')"
      ]
     },
     "execution_count": 13,
     "metadata": {},
     "output_type": "execute_result"
    },
    {
     "name": "stderr",
     "output_type": "stream",
     "text": [
      "/home/dune/miniforge3/envs/k20/lib/python3.12/site-packages/ipykernel/eventloops.py:145: UserWarning: constrained_layout not applied because axes sizes collapsed to zero.  Try making figure larger or Axes decorations smaller.\n",
      "  el.exec() if hasattr(el, \"exec\") else el.exec_()\n"
     ]
    }
   ],
   "source": [
    "specs_to_plot = ['H','He','H2','H2O','CO','CO2','CH4','N2','NH3','O','O2']\n",
    "\n",
    "fig,ax = plt.subplots(1,2,layout='constrained',figsize=(10,8))\n",
    "pretty_axis(ax)\n",
    "\n",
    "for infile,linestyle,label in zip([peak_file,min_file,earth_file],['-','--',':'],['peak','min','Earth']):\n",
    "    with open(infile,'rb') as handle:\n",
    "        data = pickle.load(handle)\n",
    "        pressure = data['atm']['pco']/1.e6\n",
    "        \n",
    "    mixing_ratios = {}\n",
    "    \n",
    "    for species in specs_to_plot:\n",
    "        ind = data['variable']['species'].index(species)\n",
    "        mixing_ratios[species] = data['variable']['ymix'][:,ind]\n",
    "\n",
    "    i = 0\n",
    "    for sp,mr in mixing_ratios.items():\n",
    "        for char in sp:\n",
    "            if char.isdigit():\n",
    "                # Format species for label\n",
    "                sp = sp.replace(char,\"$_%s$\"%(char))\n",
    "        if 'peak' in infile:\n",
    "            ax[0].plot(mr,pressure,label=sp,ls=linestyle,c='C%s'%(i))\n",
    "        else:\n",
    "            ax[0].plot(mr,pressure,ls=linestyle,c='C%s'%(i))\n",
    "        i += 1\n",
    "\n",
    "ax[0].set_yscale('log')\n",
    "ax[0].set_xscale('log')\n",
    "ax[0].invert_yaxis() \n",
    "ax[0].minorticks_on()\n",
    "ax[0].set_ylim((data['atm']['pco'][0]/1e6,data['atm']['pco'][-1]/1e6))\n",
    "ax[0].set_ylabel(\"Pressure [bar]\",fontsize=20)\n",
    "ax[0].set_xlabel(\"Mixing ratio\",fontsize=20)\n",
    "ax[0].legend(fontsize=14)\n",
    "\n",
    "ax[1].loglog(solar_data['woods']['wavelength'],solar_data['woods']['flux'],label='Woods solar')\n",
    "ax[1].loglog(alf_cen_data['peak']['wavelength'],alf_cen_data['peak']['flux'],label=r'$\\alpha$ Cen peak')\n",
    "ax[1].loglog(alf_cen_data['min']['wavelength'],alf_cen_data['min']['flux'],label=r'$\\alpha$ Cen min')\n",
    "ax[1].legend(fontsize=12)\n",
    "ax[1].set_xlabel(r'Wavelength [nm]',fontsize=18)\n",
    "ax[1].set_ylabel(r'Stellar lux [erg s$^{-1}$ cm$^{-2}$ nm$^{-1}$]',fontsize=18)\n",
    "\n",
    "ax[0].plot([1e-10,1e-9],[1e-1,1e-1],ls='-',c='k')\n",
    "ax[0].text(s='Peak',x=1.5e-9,y=1e-1,verticalalignment='center')\n",
    "\n",
    "ax[0].plot([1e-10,1e-9],[2e-1,2e-1],ls='--',c='k')\n",
    "ax[0].text(s='Min',x=1.5e-9,y=2e-1,verticalalignment='center')\n",
    "\n",
    "ax[0].plot([1e-10,1e-9],[4e-1,4e-1],ls=':',c='k')\n",
    "ax[0].text(s='Earth',x=1.5e-9,y=4e-1,verticalalignment='center')"
   ]
  },
  {
   "cell_type": "code",
   "execution_count": null,
   "id": "676ce182-d1f0-4bfd-bb3c-a7d2e0d71fa9",
   "metadata": {},
   "outputs": [],
   "source": []
  }
 ],
 "metadata": {
  "kernelspec": {
   "display_name": "Python 3 (ipykernel)",
   "language": "python",
   "name": "python3"
  },
  "language_info": {
   "codemirror_mode": {
    "name": "ipython",
    "version": 3
   },
   "file_extension": ".py",
   "mimetype": "text/x-python",
   "name": "python",
   "nbconvert_exporter": "python",
   "pygments_lexer": "ipython3",
   "version": "3.12.8"
  }
 },
 "nbformat": 4,
 "nbformat_minor": 5
}
