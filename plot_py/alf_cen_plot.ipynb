{
 "cells": [
  {
   "cell_type": "code",
   "execution_count": 1,
   "id": "446faf76-f439-4188-b62e-f1e46675b024",
   "metadata": {},
   "outputs": [],
   "source": [
    "%matplotlib qt"
   ]
  },
  {
   "cell_type": "code",
   "execution_count": 2,
   "id": "1cec5e43-8403-4cbe-83ff-4100d7c894aa",
   "metadata": {},
   "outputs": [],
   "source": [
    "import matplotlib.pyplot as plt\n",
    "import numpy as np\n",
    "from prettyplots import pretty_axis\n",
    "import pickle\n",
    "from astropy.table import Table\n",
    "import astropy.units as u\n",
    "import os\n",
    "from matplotlib.gridspec import GridSpec\n",
    "import json\n",
    "from scipy.io import readsav\n",
    "from astropy.convolution import convolve_fft,Box1DKernel\n",
    "from tqdm import tqdm"
   ]
  },
  {
   "cell_type": "markdown",
   "id": "50a84fde-0fa3-4e15-a34c-c8c0580f3fd6",
   "metadata": {},
   "source": [
    "# Plot stellar SEDs"
   ]
  },
  {
   "cell_type": "code",
   "execution_count": 3,
   "id": "880978fb-1093-49fc-b13c-a8e95297a703",
   "metadata": {},
   "outputs": [],
   "source": [
    "def bin_by_pixel(wave,flux,binsize):\n",
    "    arr_len = wave.shape[0]\n",
    "\n",
    "    _wave = wave[:arr_len-(arr_len%int(binsize))]\n",
    "    _flux = flux[:arr_len-(arr_len%int(binsize))]\n",
    "\n",
    "    binned_wave = np.mean(\n",
    "        np.concatenate([[_wave[i::binsize] for i in range(binsize)]]),axis=0,\n",
    "    )\n",
    "    binned_flux = np.mean(\n",
    "        np.concatenate([[_flux[i::binsize] for i in range(binsize)]]),axis=0,\n",
    "    )\n",
    "\n",
    "    return binned_wave,binned_flux\n",
    "\n",
    "def bin_by_wave(wave,flux,binsize):\n",
    "    new_wave = np.arange(wave[0],wave[-1],step=binsize)\n",
    "    bin_inds = np.digitize(wave,new_wave)\n",
    "    binned_flux = np.array([np.average(flux[bin_inds==i]) for i in tqdm(range(1,len(new_wave)))])\n",
    "\n",
    "    return new_wave,binned_flux\n",
    "\n",
    "alf_cen_infile = {\n",
    "    'A':'./alfCenA_panchrom_SED_SISTINE_02-07-2024.fits',\n",
    "    'B':'./alfCenB_panchrom_SED_SISTINE_02-07-2024.fits',\n",
    "}\n",
    "\n",
    "solar_infile = {\n",
    "    'gueymard':'../atm/stellar_flux/gueymard_solar.txt',\n",
    "    'woods':'../atm/stellar_flux/solar-data.idlsav',\n",
    "}\n",
    "\n",
    "\n",
    "alf_cen_data = {\n",
    "    'A':Table.read(alf_cen_infile['A']),\n",
    "    'B':Table.read(alf_cen_infile['B']),\n",
    "}\n",
    "\n",
    "solar_data = {\n",
    "    'gueymard':Table.read(solar_infile['gueymard'],format='ascii',names=['wavelength','flux']),\n",
    "    'woods':readsav(solar_infile['woods']),\n",
    "}\n",
    "\n",
    "# Convert units on Woods spectrum\n",
    "solar_data['woods'] = {\n",
    "    'wave':solar_data['woods']['wave'].flatten()*10,\n",
    "    'flux':solar_data['woods']['flux'].flatten()*100\n",
    "}"
   ]
  },
  {
   "cell_type": "code",
   "execution_count": 4,
   "id": "81dd06e9-e923-4a7d-b76d-40c1b862735b",
   "metadata": {
    "scrolled": true
   },
   "outputs": [],
   "source": [
    "alf_cen_mask = {\n",
    "    'A':(alf_cen_data['A']['flux'] > 1e-15)&(alf_cen_data['A']['wavelength'] < 4e5),\n",
    "    'B':(alf_cen_data['B']['flux'] > 1e-15)&(alf_cen_data['B']['wavelength'] < 4e5),\n",
    "}\n",
    "\n",
    "mask = {\n",
    "    'euv':[100,500,21],\n",
    "    'fuv':[1000,3000,51],\n",
    "    'visir':[3000,4e5,51]\n",
    "}\n",
    "\n",
    "for star in ['A','B']:\n",
    "    for reg,wave in mask.items():\n",
    "        reg_mask = np.all([alf_cen_data[star]['wavelength'] > wave[0],\n",
    "                       alf_cen_data[star]['wavelength'] < wave[1],\n",
    "                       alf_cen_data[star]['flux'] > 0],axis=0)\n",
    "        alf_cen_data[star]['flux'][reg_mask] = convolve_fft(alf_cen_data[star]['flux'][reg_mask],Box1DKernel(wave[2]))"
   ]
  },
  {
   "cell_type": "code",
   "execution_count": 7,
   "id": "547785b2-af09-4d8f-8c4f-9b1a75bbacd7",
   "metadata": {},
   "outputs": [
    {
     "data": {
      "text/plain": [
       "Text(0, 0.5, 'Flux [erg s$^{-1}$ cm$^{-2}$ nm$^{-1}$]')"
      ]
     },
     "execution_count": 7,
     "metadata": {},
     "output_type": "execute_result"
    }
   ],
   "source": [
    "fig,ax = plt.subplots(1,1,figsize=(9,4),layout='constrained')\n",
    "pretty_axis(ax)\n",
    "\n",
    "ax.step(alf_cen_data['A']['wavelength'][alf_cen_mask['A']],\n",
    "          alf_cen_data['A']['flux'][alf_cen_mask['A']],\n",
    "          label=r'$\\alpha$ Cen A',zorder=4)\n",
    "\n",
    "ax.step(alf_cen_data['B']['wavelength'][alf_cen_mask['B']],\n",
    "          alf_cen_data['B']['flux'][alf_cen_mask['B']],\n",
    "          label=r'$\\alpha$ Cen B',zorder=4)\n",
    "\n",
    "ax.step(solar_data['woods']['wave'],\n",
    "          solar_data['woods']['flux']*(1.0*u.AU/((1.33*u.pc).to(u.AU)))**2,\n",
    "          label='Sun',zorder=2)\n",
    "\n",
    "ax.set_xlim([5,4e5])\n",
    "ax.set_ylim([1e-16,5e-8])\n",
    "ax.set_xscale('log')\n",
    "ax.set_yscale('log')\n",
    "ax.legend(fontsize=14)\n",
    "ax.set_xlabel(r'Wavelength [$\\rm{\\AA}$]',fontsize=18)\n",
    "ax.set_ylabel(r'Flux [erg s$^{-1}$ cm$^{-2}$ nm$^{-1}$]',fontsize=18)"
   ]
  },
  {
   "cell_type": "code",
   "execution_count": 86,
   "id": "71ab6ab8-9f1f-41c9-8f62-6d18766654da",
   "metadata": {},
   "outputs": [
    {
     "data": {
      "text/plain": [
       "[<matplotlib.lines.Line2D at 0x701a77f57c50>]"
      ]
     },
     "execution_count": 86,
     "metadata": {},
     "output_type": "execute_result"
    }
   ],
   "source": [
    "new_wave = np.arange(alf_cen_data['A']['wavelength'][0],\n",
    "                     alf_cen_data['A']['wavelength'][-1],\n",
    "                     step=5)\n",
    "bin_inds = np.digitize(alf_cen_data['A']['wavelength'],new_wave)\n",
    "plt.figure()\n",
    "plt.plot(alf_cen_data['A']['wavelength'],bin_inds)"
   ]
  },
  {
   "cell_type": "code",
   "execution_count": 20,
   "id": "fc23ab28-1c6c-4931-a34f-26b0519bcf0b",
   "metadata": {},
   "outputs": [],
   "source": [
    "plt.savefig('../paper-figures/stellar_seds.png',format='png')\n",
    "plt.savefig('../paper-figures/stellar_seds.pdf',format='pdf')"
   ]
  },
  {
   "cell_type": "markdown",
   "id": "8fe6a664-53c4-426e-afec-e94b34b9506e",
   "metadata": {},
   "source": [
    "# Plot atmosphere retrievals"
   ]
  },
  {
   "cell_type": "code",
   "execution_count": 9,
   "id": "ebe8e26b-d695-422f-8d5e-c874fbebe9f3",
   "metadata": {},
   "outputs": [],
   "source": [
    "with open('./label_locs.json') as file:\n",
    "    label_locs = json.load(file)"
   ]
  },
  {
   "cell_type": "markdown",
   "id": "3a5c5f80-b7bc-42a3-9504-179a7317e133",
   "metadata": {},
   "source": [
    "## Terrestrial"
   ]
  },
  {
   "cell_type": "code",
   "execution_count": 5,
   "id": "c357d03d-81d5-467a-b4d1-48136d288427",
   "metadata": {},
   "outputs": [],
   "source": [
    "min_file = '../output/terrestrial/alf_cen_min.vul'\n",
    "peak_file = '../output/terrestrial/alf_cen_peak.vul'\n",
    "earth_file = '../output/Earth.vul'"
   ]
  },
  {
   "cell_type": "code",
   "execution_count": 22,
   "id": "abe05e09-0921-4aca-9584-bac5bdba7f83",
   "metadata": {},
   "outputs": [
    {
     "data": {
      "text/plain": [
       "Text(1.5e-10, 0.4, 'Earth')"
      ]
     },
     "execution_count": 22,
     "metadata": {},
     "output_type": "execute_result"
    }
   ],
   "source": [
    "specs_to_plot = ['H','H2','H2O','CO','CO2','CH4','N2','O','O2']\n",
    "\n",
    "fig = plt.figure(layout='constrained',figsize=(12,6))\n",
    "\n",
    "gs = GridSpec(1,3,figure=fig)\n",
    "ax = [\n",
    "    fig.add_subplot(gs[0:2]),\n",
    "    fig.add_subplot(gs[2])\n",
    "]\n",
    "\n",
    "for subax in ax:\n",
    "    pretty_axis(subax)\n",
    "\n",
    "for infile,linestyle,label in zip([peak_file,min_file,earth_file],['-','--',':'],['peak','min','Earth']):\n",
    "    #if not label=='peak':\n",
    "    #    continue\n",
    "    with open(infile,'rb') as handle:\n",
    "        data = pickle.load(handle)\n",
    "        pressure = data['atm']['pco']/1.e6\n",
    "        \n",
    "    mixing_ratios = {}\n",
    "    \n",
    "    for species in specs_to_plot:\n",
    "        ind = data['variable']['species'].index(species)\n",
    "        mixing_ratios[species] = data['variable']['ymix'][:,ind]\n",
    "\n",
    "    i = 0\n",
    "    for sp,mr in mixing_ratios.items():\n",
    "        for char in sp:\n",
    "            if char.isdigit():\n",
    "                # Format species for label\n",
    "                sp = sp.replace(char,\"$_%s$\"%(char))\n",
    "        if 'peak' in infile:\n",
    "            ax[0].plot(mr,pressure,label=sp,ls=linestyle,c='C%s'%(i))\n",
    "        else:\n",
    "            ax[0].plot(mr,pressure,ls=linestyle,c='C%s'%(i))\n",
    "        i += 1\n",
    "\n",
    "ax[0].set_yscale('log')\n",
    "ax[0].set_xscale('log')\n",
    "ax[0].invert_yaxis() \n",
    "ax[0].minorticks_on()\n",
    "ax[0].set_ylim((data['atm']['pco'][0]/1e6,data['atm']['pco'][-1]/1e6))\n",
    "ax[0].set_ylabel(\"Pressure [bar]\",fontsize=20)\n",
    "ax[0].set_xlabel(\"Mixing ratio\",fontsize=20)\n",
    "ax[0].legend(fontsize=14)\n",
    "\n",
    "'''\n",
    "# Plot SEDs\n",
    "ax[1].loglog(solar_data['woods']['wavelength'],solar_data['woods']['flux'],label='Woods solar')\n",
    "ax[1].loglog(alf_cen_data['peak']['wavelength'],alf_cen_data['peak']['flux'],label=r'$\\alpha$ Cen peak')\n",
    "ax[1].loglog(alf_cen_data['min']['wavelength'],alf_cen_data['min']['flux'],label=r'$\\alpha$ Cen min')\n",
    "ax[1].legend(fontsize=12)\n",
    "ax[1].set_xlabel(r'Wavelength [nm]',fontsize=18)\n",
    "ax[1].set_ylabel(r'Stellar lux [erg s$^{-1}$ cm$^{-2}$ nm$^{-1}$]',fontsize=18)\n",
    "'''\n",
    "\n",
    "# Plot TP profile\n",
    "ax[1].semilogy(data['atm']['Tco'], pressure)\n",
    "ax[1].set_xlabel('Temperature [K]',fontsize=18)\n",
    "ax[1].invert_yaxis()\n",
    "ax[1].sharey(ax[0])\n",
    "ax[1].tick_params(axis='y',labelleft=False)\n",
    "\n",
    "ax[0].plot([1e-12,1e-10],[1e-1,1e-1],ls='-',c='k')\n",
    "ax[0].text(s='Peak',x=1.5e-10,y=1e-1,fontsize=14,verticalalignment='center')\n",
    "\n",
    "ax[0].plot([1e-12,1e-10],[2e-1,2e-1],ls='--',c='k')\n",
    "ax[0].text(s='Min',x=1.5e-10,y=2e-1,fontsize=14,verticalalignment='center')\n",
    "\n",
    "ax[0].plot([1e-12,1e-10],[4e-1,4e-1],ls=':',c='k')\n",
    "ax[0].text(s='Earth',x=1.5e-10,y=4e-1,fontsize=14,verticalalignment='center')"
   ]
  },
  {
   "cell_type": "code",
   "execution_count": 23,
   "id": "c80a4410-7fe6-4946-a2e7-58234e88a906",
   "metadata": {},
   "outputs": [],
   "source": [
    "plt.savefig('../paper-figures/atm_terrestrial.png',format='png')\n",
    "plt.savefig('../paper-figures/atm_terrestrial.pdf',format='pdf')"
   ]
  },
  {
   "cell_type": "code",
   "execution_count": 17,
   "id": "f2574409-cc31-4a5c-a405-ad9fdbca97b5",
   "metadata": {},
   "outputs": [
    {
     "name": "stdout",
     "output_type": "stream",
     "text": [
      "-----H$_2$O-----\n",
      "{'peak': 2, 'min': 2}\n",
      "Peak MR: 5.1138e-09\n",
      "Min MR: 2.7299e-08\n",
      "MR ratio: 5.3384e+00\n",
      "Pressure: 5.0000e-08\n",
      "-----CO$_2$-----\n",
      "{'peak': 18, 'min': 18}\n",
      "Peak MR: 3.3846e-06\n",
      "Min MR: 1.3285e-05\n",
      "MR ratio: 3.9252e+00\n",
      "Pressure: 5.0000e-08\n",
      "-----CH$_4$-----\n",
      "{'peak': 9, 'min': 9}\n",
      "Peak MR: 2.1707e-10\n",
      "Min MR: 1.5306e-09\n",
      "MR ratio: 7.0511e+00\n",
      "Pressure: 5.0000e-08\n"
     ]
    },
    {
     "data": {
      "text/plain": [
       "(0.0001, 5e-08)"
      ]
     },
     "execution_count": 17,
     "metadata": {},
     "output_type": "execute_result"
    }
   ],
   "source": [
    "fig,ax = plt.subplots(1,1,layout='constrained',figsize=(8,6))\n",
    "pretty_axis(ax)\n",
    "\n",
    "for species in ['H2O','CO2','CH4']:                \n",
    "    with open(peak_file,'rb') as handle:\n",
    "        data_peak = pickle.load(handle)\n",
    "    with open(min_file,'rb') as handle:\n",
    "        data_min = pickle.load(handle)\n",
    "\n",
    "    ind = {\n",
    "        'peak':data_peak['variable']['species'].index(species),\n",
    "        'min':data_min['variable']['species'].index(species),\n",
    "    }\n",
    "\n",
    "    pressure = data_peak['atm']['pco']/1e6\n",
    "    mr_ratio = data_min['variable']['ymix'][:,ind['min']]/data_peak['variable']['ymix'][:,ind['peak']]\n",
    "    maxdiff_ind = np.argmax(mr_ratio)\n",
    "\n",
    "    peak_mr = data_peak['variable']['ymix'][maxdiff_ind,ind['peak']]\n",
    "    min_mr = data_min['variable']['ymix'][maxdiff_ind,ind['min']]\n",
    "\n",
    "    peak_ratio = min_mr/peak_mr\n",
    "    peak_pressure = pressure[maxdiff_ind]\n",
    "\n",
    "    for char in species:\n",
    "            if char.isdigit():\n",
    "                # Format species for label\n",
    "                species = species.replace(char,\"$_%s$\"%(char))\n",
    "\n",
    "    ax.semilogx(\n",
    "        pressure,\n",
    "        mr_ratio,\n",
    "        label=species)\n",
    "    \n",
    "    print(f'-----{species}-----')\n",
    "    print(ind)\n",
    "    print(f'Peak MR: {peak_mr:0.4e}')\n",
    "    print(f'Min MR: {min_mr:0.4e}')\n",
    "    print(f'MR ratio: {peak_ratio:0.4e}')\n",
    "    print(f'Pressure: {peak_pressure:0.4e}')\n",
    "\n",
    "ax.set_xlabel('Pressure [bar]',fontsize=18)\n",
    "ax.set_ylabel(r'MR$_\\mathrm{min}$ / MR$_\\mathrm{peak}$',fontsize=19)\n",
    "ax.invert_xaxis()\n",
    "ax.legend(fontsize=14)\n",
    "ax.set_xlim([1e-4,5e-8])"
   ]
  },
  {
   "cell_type": "markdown",
   "id": "401584c2-bcee-40da-a3d3-a5e80bd5d637",
   "metadata": {},
   "source": [
    "## Gas giant"
   ]
  },
  {
   "cell_type": "code",
   "execution_count": 7,
   "id": "51a23324-c520-4144-b97a-13c9e1410494",
   "metadata": {},
   "outputs": [],
   "source": [
    "infiles = {\n",
    "    'min':'../output/gas-giant/alf_cen_min.vul',\n",
    "    'peak':'../output/gas-giant/alf_cen_peak.vul'\n",
    "}"
   ]
  },
  {
   "cell_type": "code",
   "execution_count": 28,
   "id": "3adbe8bb-9918-4648-a973-ecc11bf7c891",
   "metadata": {},
   "outputs": [
    {
     "data": {
      "text/plain": [
       "Text(3e-15, 0.2, 'Min')"
      ]
     },
     "execution_count": 28,
     "metadata": {},
     "output_type": "execute_result"
    }
   ],
   "source": [
    "specs_to_plot = ['H','He','H2','H2O','CO','CO2','CH4','N2','O','O2']\n",
    "\n",
    "fig = plt.figure(layout='constrained',figsize=(12,6))\n",
    "\n",
    "gs = GridSpec(1,3,figure=fig)\n",
    "\n",
    "ax = [\n",
    "    fig.add_subplot(gs[0:2]),\n",
    "    fig.add_subplot(gs[2])\n",
    "]\n",
    "\n",
    "for subax in ax:\n",
    "    pretty_axis(subax)\n",
    "\n",
    "for profile,ls in zip(['min','peak'],['--','-']):\n",
    "    with open(infiles[profile],'rb') as handle:\n",
    "        data = pickle.load(handle)\n",
    "        pressure = data['atm']['pco']/1.e6\n",
    "        \n",
    "    mixing_ratios = {}\n",
    "    \n",
    "    for species in specs_to_plot:\n",
    "        ind = data['variable']['species'].index(species)\n",
    "        mixing_ratios[species] = data['variable']['ymix'][:,ind]\n",
    "\n",
    "    i = 0\n",
    "    for sp,mr in mixing_ratios.items():\n",
    "        for char in sp:\n",
    "            if char.isdigit():\n",
    "                # Format species for label\n",
    "                sp = sp.replace(char,\"$_%s$\"%(char))\n",
    "        if profile=='peak':\n",
    "            ax[0].plot(mr,pressure,label=sp,ls=ls,c='C%s'%(i))\n",
    "        else:\n",
    "            ax[0].plot(mr,pressure,ls=ls,c='C%s'%(i))\n",
    "        i += 1\n",
    "\n",
    "for i,(species,loc) in enumerate(label_locs['gas'].items()):\n",
    "    if species in ['H','O$_2$']:\n",
    "        ax[0].text(s=species,x=loc[0],y=loc[1],\n",
    "                   color=f\"C{i}\",\n",
    "                   fontsize=14,\n",
    "                   verticalalignment='center')\n",
    "\n",
    "ax[0].set_yscale('log')\n",
    "ax[0].set_xscale('log')\n",
    "ax[0].invert_yaxis() \n",
    "ax[0].minorticks_on()\n",
    "ax[0].set_ylim((data['atm']['pco'][0]/1e6,data['atm']['pco'][-1]/1e6))\n",
    "ax[0].set_ylabel(\"Pressure [bar]\",fontsize=20)\n",
    "ax[0].set_xlabel(\"Mixing ratio\",fontsize=20)\n",
    "ax[0].legend(fontsize=14)\n",
    "\n",
    "# Plot TP profile\n",
    "ax[1].semilogy(data['atm']['Tco'], pressure)\n",
    "ax[1].set_xlabel('Temperature [K]',fontsize=18)\n",
    "ax[1].invert_yaxis()\n",
    "ax[1].sharey(ax[0])\n",
    "ax[1].tick_params(labelleft=False)\n",
    "\n",
    "ax[0].minorticks_on()\n",
    "ax[1].minorticks_on()\n",
    "\n",
    "ax[0].plot([1e-17,1e-15],[1e-1,1e-1],ls='-',c='k')\n",
    "ax[0].text(s='Peak',x=3e-15,y=1e-1,fontsize=14,verticalalignment='center')\n",
    "\n",
    "ax[0].plot([1e-17,1e-15],[2e-1,2e-1],ls='--',c='k')\n",
    "ax[0].text(s='Min',x=3e-15,y=2e-1,fontsize=14,verticalalignment='center')"
   ]
  },
  {
   "cell_type": "code",
   "execution_count": 29,
   "id": "39935f83-1fd9-4e9b-aa58-2425ef0d3e5b",
   "metadata": {},
   "outputs": [],
   "source": [
    "plt.savefig('../paper-figures/atm_gas-giant.png',format='png')\n",
    "plt.savefig('../paper-figures/atm_gas-giant.pdf',format='pdf')"
   ]
  },
  {
   "cell_type": "code",
   "execution_count": null,
   "id": "5755fd13-6337-49bc-a0ee-66e0b47a5a11",
   "metadata": {},
   "outputs": [],
   "source": []
  }
 ],
 "metadata": {
  "kernelspec": {
   "display_name": "Python 3 (ipykernel)",
   "language": "python",
   "name": "python3"
  },
  "language_info": {
   "codemirror_mode": {
    "name": "ipython",
    "version": 3
   },
   "file_extension": ".py",
   "mimetype": "text/x-python",
   "name": "python",
   "nbconvert_exporter": "python",
   "pygments_lexer": "ipython3",
   "version": "3.13.5"
  }
 },
 "nbformat": 4,
 "nbformat_minor": 5
}
