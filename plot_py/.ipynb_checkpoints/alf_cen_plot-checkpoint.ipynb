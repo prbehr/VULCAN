{
 "cells": [
  {
   "cell_type": "code",
   "execution_count": 1,
   "id": "446faf76-f439-4188-b62e-f1e46675b024",
   "metadata": {},
   "outputs": [],
   "source": [
    "%matplotlib qt"
   ]
  },
  {
   "cell_type": "code",
   "execution_count": 2,
   "id": "1cec5e43-8403-4cbe-83ff-4100d7c894aa",
   "metadata": {},
   "outputs": [],
   "source": [
    "import matplotlib.pyplot as plt\n",
    "import numpy as np\n",
    "from prettyplots import pretty_axis\n",
    "import pickle\n",
    "from astropy.table import Table"
   ]
  },
  {
   "cell_type": "code",
   "execution_count": 3,
   "id": "cbf3a8c2-1984-4634-9a3d-ae7bb48aa29b",
   "metadata": {},
   "outputs": [],
   "source": [
    "min_file = './alfa_centauri_min.vul'\n",
    "peak_file = './alfa_centauri_peak.vul'"
   ]
  },
  {
   "cell_type": "code",
   "execution_count": 13,
   "id": "abe05e09-0921-4aca-9584-bac5bdba7f83",
   "metadata": {},
   "outputs": [
    {
     "data": {
      "text/plain": [
       "(0.0, 1000.0)"
      ]
     },
     "execution_count": 13,
     "metadata": {},
     "output_type": "execute_result"
    }
   ],
   "source": [
    "specs_to_plot = ['H','He','H2','H2O','CO','CO2','CH4','N2','NH3','O','O2']\n",
    "\n",
    "fig,ax = plt.subplots(1,2,layout='constrained',figsize=(10,8),sharey=True)\n",
    "pretty_axis(ax)\n",
    "\n",
    "for infile,linestyle in zip([min_file,peak_file],['-','--']):\n",
    "    with open(infile,'rb') as handle:\n",
    "        data = pickle.load(handle)\n",
    "        pressure = data['atm']['pco']/1.e6\n",
    "        \n",
    "    mixing_ratios = {}\n",
    "    \n",
    "    for species in specs_to_plot:\n",
    "        ind = data['variable']['species'].index(species)\n",
    "        mixing_ratios[species] = data['variable']['ymix'][:,ind]\n",
    "\n",
    "    i = 0\n",
    "    for sp,mr in mixing_ratios.items():\n",
    "        for char in sp:\n",
    "            if char.isdigit():\n",
    "                # Format species for label\n",
    "                sp = sp.replace(char,\"$_%s$\"%(char))\n",
    "        if 'min' in infile:\n",
    "            ax[0].plot(mr,pressure,label=sp,ls=linestyle,c='C%s'%(i))\n",
    "        else:\n",
    "            ax[0].plot(mr,pressure,ls=linestyle,c='C%s'%(i))\n",
    "        i += 1\n",
    "\n",
    "ax[0].set_yscale('log')\n",
    "ax[0].set_xscale('log')\n",
    "ax[0].invert_yaxis() \n",
    "ax[0].minorticks_on()\n",
    "ax[0].set_ylim((data['atm']['pco'][0]/1e6,data['atm']['pco'][-1]/1e6))\n",
    "ax[0].set_ylabel(\"Pressure [bar]\",fontsize=20)\n",
    "ax[0].set_xlabel(\"Mixing ratio\",fontsize=20)\n",
    "ax[0].legend(fontsize=14)\n",
    "\n",
    "ax[1].plot(data['atm']['Tco'],pressure,label=r'$\\alpha$ Cen A b')\n",
    "ax[1].plot(CH4_CO['col1'],CH4_CO['col2'],ls='--',c='r',label='CH4 / CO')\n",
    "ax[1].plot(NH3_N2['col1'],NH3_N2['col2'],ls='--',c='g',label='NH3 / N2')\n",
    "ax[1].set_yscale('log')\n",
    "#ax[1].invert_yaxis()\n",
    "ax[1].legend(fontsize=14)\n",
    "ax[1].set_xlabel('T [K]',fontsize=18)\n",
    "#ax[1].set_ylabel('Pressure [bar]',fontsize=18)\n",
    "ax[1].set_ylim([100,1e-8])\n",
    "ax[1].set_xlim([0,1000])"
   ]
  },
  {
   "cell_type": "code",
   "execution_count": 5,
   "id": "e35526fe-8f82-4322-a728-0d87ba262d08",
   "metadata": {},
   "outputs": [
    {
     "data": {
      "text/plain": [
       "(0.0, 1000.0)"
      ]
     },
     "execution_count": 5,
     "metadata": {},
     "output_type": "execute_result"
    }
   ],
   "source": [
    "CH4_CO = Table.read('./CH4-CO.csv',format='ascii')\n",
    "NH3_N2 = Table.read('./NH3-N2.csv',format='ascii')\n",
    "\n",
    "fig,ax = plt.subplots(1,1,figsize=(6,8),layout='constrained')\n",
    "pretty_axis(ax)\n"
   ]
  },
  {
   "cell_type": "code",
   "execution_count": null,
   "id": "676ce182-d1f0-4bfd-bb3c-a7d2e0d71fa9",
   "metadata": {},
   "outputs": [],
   "source": []
  }
 ],
 "metadata": {
  "kernelspec": {
   "display_name": "Python 3 (ipykernel)",
   "language": "python",
   "name": "python3"
  },
  "language_info": {
   "codemirror_mode": {
    "name": "ipython",
    "version": 3
   },
   "file_extension": ".py",
   "mimetype": "text/x-python",
   "name": "python",
   "nbconvert_exporter": "python",
   "pygments_lexer": "ipython3",
   "version": "3.12.8"
  }
 },
 "nbformat": 4,
 "nbformat_minor": 5
}
